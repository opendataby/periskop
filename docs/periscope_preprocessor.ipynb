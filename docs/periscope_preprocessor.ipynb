{
 "cells": [
  {
   "cell_type": "code",
   "execution_count": 1,
   "metadata": {},
   "outputs": [],
   "source": [
    "import csv\n",
    "import json\n",
    "import simplejson"
   ]
  },
  {
   "cell_type": "code",
   "execution_count": 2,
   "metadata": {},
   "outputs": [],
   "source": [
    "data = [item for item in csv.DictReader(open(\"periskop_data.csv\"), delimiter=\"\\t\")]"
   ]
  },
  {
   "cell_type": "code",
   "execution_count": 4,
   "metadata": {},
   "outputs": [
    {
     "data": {
      "text/plain": [
       "OrderedDict([('cat', 'Финансы'),\n",
       "             ('title', 'Государственный долг, всего'),\n",
       "             ('ind', '101'),\n",
       "             ('amt', '15400.9'),\n",
       "             ('dim', 'BYN млн'),\n",
       "             ('date', '2014-01-01'),\n",
       "             ('comment', '')])"
      ]
     },
     "execution_count": 4,
     "metadata": {},
     "output_type": "execute_result"
    }
   ],
   "source": [
    "data[0]"
   ]
  },
  {
   "cell_type": "code",
   "execution_count": 9,
   "metadata": {},
   "outputs": [],
   "source": [
    "data_restructured = {}\n",
    "for datum in data:\n",
    "    if datum[\"ind\"] not in data_restructured:\n",
    "        data_restructured[datum[\"ind\"]] = {}\n",
    "        data_restructured[datum[\"ind\"]][datum[\"date\"]] = datum[\"amt\"]\n",
    "    else:\n",
    "        data_restructured[datum[\"ind\"]][datum[\"date\"]] = datum[\"amt\"]"
   ]
  },
  {
   "cell_type": "code",
   "execution_count": 10,
   "metadata": {},
   "outputs": [
    {
     "data": {
      "text/plain": [
       "dict_keys(['101', '102', '103', '104', '105', '106', '107', '201', '202', '203', '204', '205'])"
      ]
     },
     "execution_count": 10,
     "metadata": {},
     "output_type": "execute_result"
    }
   ],
   "source": [
    "data_restructured.keys()"
   ]
  },
  {
   "cell_type": "code",
   "execution_count": 11,
   "metadata": {},
   "outputs": [
    {
     "data": {
      "text/plain": [
       "{'2010': '121.73',\n",
       " '2011': '189.98',\n",
       " '2012': '367.61',\n",
       " '2013': '506.14',\n",
       " '2014': '605.24',\n",
       " '2015': '671.5',\n",
       " '2016': '722',\n",
       " '2017': '815.2',\n",
       " '2018': '958.1',\n",
       " '2019': '979'}"
      ]
     },
     "execution_count": 11,
     "metadata": {},
     "output_type": "execute_result"
    }
   ],
   "source": [
    "data_restructured[\"205\"]"
   ]
  },
  {
   "cell_type": "code",
   "execution_count": 12,
   "metadata": {},
   "outputs": [
    {
     "data": {
      "text/plain": [
       "\u001b[0;31mType:\u001b[0m        module\n",
       "\u001b[0;31mString form:\u001b[0m <module 'simplejson' from '/usr/local/lib/python3.7/dist-packages/simplejson/__init__.py'>\n",
       "\u001b[0;31mFile:\u001b[0m        /usr/local/lib/python3.7/dist-packages/simplejson/__init__.py\n",
       "\u001b[0;31mDocstring:\u001b[0m  \n",
       "JSON (JavaScript Object Notation) <http://json.org> is a subset of\n",
       "JavaScript syntax (ECMA-262 3rd edition) used as a lightweight data\n",
       "interchange format.\n",
       "\n",
       ":mod:`simplejson` exposes an API familiar to users of the standard library\n",
       ":mod:`marshal` and :mod:`pickle` modules. It is the externally maintained\n",
       "version of the :mod:`json` library contained in Python 2.6, but maintains\n",
       "compatibility back to Python 2.5 and (currently) has significant performance\n",
       "advantages, even without using the optional C extension for speedups.\n",
       "\n",
       "Encoding basic Python object hierarchies::\n",
       "\n",
       "    >>> import simplejson as json\n",
       "    >>> json.dumps(['foo', {'bar': ('baz', None, 1.0, 2)}])\n",
       "    '[\"foo\", {\"bar\": [\"baz\", null, 1.0, 2]}]'\n",
       "    >>> print(json.dumps(\"\\\"foo\\bar\"))\n",
       "    \"\\\"foo\\bar\"\n",
       "    >>> print(json.dumps(u'\\u1234'))\n",
       "    \"\\u1234\"\n",
       "    >>> print(json.dumps('\\\\'))\n",
       "    \"\\\\\"\n",
       "    >>> print(json.dumps({\"c\": 0, \"b\": 0, \"a\": 0}, sort_keys=True))\n",
       "    {\"a\": 0, \"b\": 0, \"c\": 0}\n",
       "    >>> from simplejson.compat import StringIO\n",
       "    >>> io = StringIO()\n",
       "    >>> json.dump(['streaming API'], io)\n",
       "    >>> io.getvalue()\n",
       "    '[\"streaming API\"]'\n",
       "\n",
       "Compact encoding::\n",
       "\n",
       "    >>> import simplejson as json\n",
       "    >>> obj = [1,2,3,{'4': 5, '6': 7}]\n",
       "    >>> json.dumps(obj, separators=(',',':'), sort_keys=True)\n",
       "    '[1,2,3,{\"4\":5,\"6\":7}]'\n",
       "\n",
       "Pretty printing::\n",
       "\n",
       "    >>> import simplejson as json\n",
       "    >>> print(json.dumps({'4': 5, '6': 7}, sort_keys=True, indent='    '))\n",
       "    {\n",
       "        \"4\": 5,\n",
       "        \"6\": 7\n",
       "    }\n",
       "\n",
       "Decoding JSON::\n",
       "\n",
       "    >>> import simplejson as json\n",
       "    >>> obj = [u'foo', {u'bar': [u'baz', None, 1.0, 2]}]\n",
       "    >>> json.loads('[\"foo\", {\"bar\":[\"baz\", null, 1.0, 2]}]') == obj\n",
       "    True\n",
       "    >>> json.loads('\"\\\\\"foo\\\\bar\"') == u'\"foo\\x08ar'\n",
       "    True\n",
       "    >>> from simplejson.compat import StringIO\n",
       "    >>> io = StringIO('[\"streaming API\"]')\n",
       "    >>> json.load(io)[0] == 'streaming API'\n",
       "    True\n",
       "\n",
       "Specializing JSON object decoding::\n",
       "\n",
       "    >>> import simplejson as json\n",
       "    >>> def as_complex(dct):\n",
       "    ...     if '__complex__' in dct:\n",
       "    ...         return complex(dct['real'], dct['imag'])\n",
       "    ...     return dct\n",
       "    ...\n",
       "    >>> json.loads('{\"__complex__\": true, \"real\": 1, \"imag\": 2}',\n",
       "    ...     object_hook=as_complex)\n",
       "    (1+2j)\n",
       "    >>> from decimal import Decimal\n",
       "    >>> json.loads('1.1', parse_float=Decimal) == Decimal('1.1')\n",
       "    True\n",
       "\n",
       "Specializing JSON object encoding::\n",
       "\n",
       "    >>> import simplejson as json\n",
       "    >>> def encode_complex(obj):\n",
       "    ...     if isinstance(obj, complex):\n",
       "    ...         return [obj.real, obj.imag]\n",
       "    ...     raise TypeError('Object of type %s is not JSON serializable' %\n",
       "    ...                     obj.__class__.__name__)\n",
       "    ...\n",
       "    >>> json.dumps(2 + 1j, default=encode_complex)\n",
       "    '[2.0, 1.0]'\n",
       "    >>> json.JSONEncoder(default=encode_complex).encode(2 + 1j)\n",
       "    '[2.0, 1.0]'\n",
       "    >>> ''.join(json.JSONEncoder(default=encode_complex).iterencode(2 + 1j))\n",
       "    '[2.0, 1.0]'\n",
       "\n",
       "Using simplejson.tool from the shell to validate and pretty-print::\n",
       "\n",
       "    $ echo '{\"json\":\"obj\"}' | python -m simplejson.tool\n",
       "    {\n",
       "        \"json\": \"obj\"\n",
       "    }\n",
       "    $ echo '{ 1.2:3.4}' | python -m simplejson.tool\n",
       "    Expecting property name: line 1 column 3 (char 2)\n",
       "\n",
       "Parsing multiple documents serialized as JSON lines (newline-delimited JSON)::\n",
       "\n",
       "    >>> import simplejson as json\n",
       "    >>> def loads_lines(docs):\n",
       "    ...     for doc in docs.splitlines():\n",
       "    ...         yield json.loads(doc)\n",
       "    ...\n",
       "    >>> sum(doc[\"count\"] for doc in loads_lines('{\"count\":1}\\n{\"count\":2}\\n{\"count\":3}\\n'))\n",
       "    6\n",
       "\n",
       "Serializing multiple objects to JSON lines (newline-delimited JSON)::\n",
       "\n",
       "    >>> import simplejson as json\n",
       "    >>> def dumps_lines(objs):\n",
       "    ...     for obj in objs:\n",
       "    ...         yield json.dumps(obj, separators=(',',':')) + '\\n'\n",
       "    ...\n",
       "    >>> ''.join(dumps_lines([{'count': 1}, {'count': 2}, {'count': 3}]))\n",
       "    '{\"count\":1}\\n{\"count\":2}\\n{\"count\":3}\\n'\n"
      ]
     },
     "metadata": {},
     "output_type": "display_data"
    }
   ],
   "source": [
    "simplejson?"
   ]
  },
  {
   "cell_type": "code",
   "execution_count": 14,
   "metadata": {},
   "outputs": [],
   "source": [
    "with open(\"periskop_data.json\", \"w\") as f:\n",
    "    f.write(json.dumps(data_restructured))"
   ]
  },
  {
   "cell_type": "code",
   "execution_count": null,
   "metadata": {},
   "outputs": [],
   "source": []
  }
 ],
 "metadata": {
  "kernelspec": {
   "display_name": "Python 3",
   "language": "python",
   "name": "python3"
  },
  "language_info": {
   "codemirror_mode": {
    "name": "ipython",
    "version": 3
   },
   "file_extension": ".py",
   "mimetype": "text/x-python",
   "name": "python",
   "nbconvert_exporter": "python",
   "pygments_lexer": "ipython3",
   "version": "3.7.3"
  }
 },
 "nbformat": 4,
 "nbformat_minor": 4
}
